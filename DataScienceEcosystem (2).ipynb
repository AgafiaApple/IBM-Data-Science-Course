{
 "cells": [
  {
   "cell_type": "markdown",
   "id": "96110066-c6b3-4597-9654-0dd0bcc7d62f",
   "metadata": {
    "tags": []
   },
   "source": [
    "# Data Science Tools and Ecosystem"
   ]
  },
  {
   "cell_type": "markdown",
   "id": "565798ac-3c8e-4b49-9239-7f4c1316c938",
   "metadata": {},
   "source": [
    "In this notebook, the Data Science Tools course from IBM's Data Science professional certificate will be summarized. "
   ]
  },
  {
   "cell_type": "markdown",
   "id": "29e122cf-559c-461a-88dd-744c91507753",
   "metadata": {},
   "source": [
    "**Objectives:**\n",
    "* List popular languages for data science\n",
    "* List commercial and cloud-based data science tools\n",
    "* List the tasks that a data scientist must perform to build a model\n",
    "* Describe how to use a model to solve a problem\n",
    "* Define a REST API in relation to request and response\n",
    "* Describe the basic Jupyter architecture\n",
    "* Explain version control and describe Git and the GitHub environment"
   ]
  },
  {
   "cell_type": "markdown",
   "id": "6ec64409-ea72-4969-895e-10935e5aecf1",
   "metadata": {
    "tags": []
   },
   "source": [
    "### Languages of Data Science\n",
    "\n",
    "#### Most Common Languages:\n",
    "* Python - general purpose; contains scientific computational, ML, and DL libraries\n",
    "* SQL - non-procedural language used with relational databases; querying and managing data; behaves as an interpreter between client and the database\n",
    "* R - free language (not open-sourced) for statistical purposes primarily; contains libraries to interface with keras and tensorflow \n",
    "\n",
    "#### Other Data Science Languages: \n",
    "* Julia - for high computational science and numerical analysis \n",
    "* JavaScript - core language of the World Wide Web; extended beyond the web with node.js\n",
    "* Java - used with Hadoop\n",
    "* C++ - C with classes; has TensorFlow (which also works with Python)\n",
    "* Scala - general purpose static-type language (meaning that type-checking occurs at runtime/execution)"
   ]
  },
  {
   "cell_type": "markdown",
   "id": "29aa0730-5777-449e-a3b7-02cdfd01d0da",
   "metadata": {},
   "source": [
    "### Data Science Libraries"
   ]
  },
  {
   "cell_type": "markdown",
   "id": "2bec0914-629d-46e5-a313-18f6044d4e4a",
   "metadata": {},
   "source": [
    "Libraries contain built-in modules of reusable code for use in your programs. Some of the most common data science libraries are: \n",
    "1. Numpy - scientific computational; Python; working with arrays/matrices\n",
    "2. Pandas - scientific computational; Python\n",
    "3. TensorFlow - DL; Python, C/C++\n",
    "4. Matplotlib - visualization; Python\n",
    "5. Ggplot2 - visualization; R\n",
    "6. Seaborn - visualization; Python\n",
    "7. Keras - ML; Python\n",
    "8. Scikitlearn - ML; Python; stat modeling using regression, classification, clustering "
   ]
  },
  {
   "cell_type": "markdown",
   "id": "16fe3cf3-0a98-4169-815b-8d05e0f4d580",
   "metadata": {
    "tags": []
   },
   "source": [
    "|Data Science Tools|\n",
    "|------------------|\n",
    "|Visual Studio Code|\n",
    "|RStudio|\n",
    "|GitHub|"
   ]
  },
  {
   "cell_type": "markdown",
   "id": "e2f91555-b0ec-4d48-afc8-b2c5798e55fb",
   "metadata": {},
   "source": [
    "### Examples of Evaluating Arithmetic Expressions in Python\n"
   ]
  },
  {
   "cell_type": "code",
   "execution_count": 54,
   "id": "938b0694-621e-4082-96cc-5546f815d21b",
   "metadata": {
    "tags": []
   },
   "outputs": [
    {
     "data": {
      "text/plain": [
       "17"
      ]
     },
     "execution_count": 54,
     "metadata": {},
     "output_type": "execute_result"
    }
   ],
   "source": [
    "#multiplying and adding integers\n",
    "(3*4)+5"
   ]
  },
  {
   "cell_type": "code",
   "execution_count": 55,
   "id": "ff1c4784-8c32-4e4c-ae9b-147649ce363f",
   "metadata": {
    "tags": []
   },
   "outputs": [
    {
     "name": "stdout",
     "output_type": "stream",
     "text": [
      "There are 3.33 hours in 200 minutes.\n"
     ]
    }
   ],
   "source": [
    "#This will convert 200 minutes to hours by diving by 60\n",
    "mins = 200\n",
    "hours = round(mins/60, 2)\n",
    "print(f\"There are {hours} hours in {mins} minutes.\")"
   ]
  },
  {
   "cell_type": "markdown",
   "id": "6f9588fc-80dc-4306-be90-7080ca7c3038",
   "metadata": {},
   "source": [
    "## Author\n",
    "Agafia Bowden"
   ]
  }
 ],
 "metadata": {
  "kernelspec": {
   "display_name": "Python 3 (ipykernel)",
   "language": "python",
   "name": "python3"
  },
  "language_info": {
   "codemirror_mode": {
    "name": "ipython",
    "version": 3
   },
   "file_extension": ".py",
   "mimetype": "text/x-python",
   "name": "python",
   "nbconvert_exporter": "python",
   "pygments_lexer": "ipython3",
   "version": "3.11.7"
  }
 },
 "nbformat": 4,
 "nbformat_minor": 5
}
